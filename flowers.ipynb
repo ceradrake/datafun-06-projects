{
 "cells": [
  {
   "cell_type": "markdown",
   "metadata": {},
   "source": [
    "# Flowers\n",
    "##### Author: Cera Drake"
   ]
  },
  {
   "cell_type": "markdown",
   "metadata": {},
   "source": [
    "##### Section 1 Load - Load the Iris csv file"
   ]
  },
  {
   "cell_type": "code",
   "execution_count": 4,
   "metadata": {},
   "outputs": [],
   "source": [
    "import pandas as pd \n",
    "flowers = pd.read_csv(\"Iris.csv\", index_col=0)"
   ]
  },
  {
   "cell_type": "markdown",
   "metadata": {},
   "source": [
    "##### Section 2 View - Display the first and last 5 rows"
   ]
  },
  {
   "cell_type": "code",
   "execution_count": 5,
   "metadata": {},
   "outputs": [
    {
     "data": {
      "text/plain": [
       "(    SepalLengthCm  SepalWidthCm  PetalLengthCm  PetalWidthCm      Species\n",
       " Id                                                                       \n",
       " 1             5.1           3.5            1.4           0.2  Iris-setosa\n",
       " 2             4.9           3.0            1.4           0.2  Iris-setosa\n",
       " 3             4.7           3.2            1.3           0.2  Iris-setosa\n",
       " 4             4.6           3.1            1.5           0.2  Iris-setosa\n",
       " 5             5.0           3.6            1.4           0.2  Iris-setosa,\n",
       "      SepalLengthCm  SepalWidthCm  PetalLengthCm  PetalWidthCm         Species\n",
       " Id                                                                           \n",
       " 146            6.7           3.0            5.2           2.3  Iris-virginica\n",
       " 147            6.3           2.5            5.0           1.9  Iris-virginica\n",
       " 148            6.5           3.0            5.2           2.0  Iris-virginica\n",
       " 149            6.2           3.4            5.4           2.3  Iris-virginica\n",
       " 150            5.9           3.0            5.1           1.8  Iris-virginica)"
      ]
     },
     "execution_count": 5,
     "metadata": {},
     "output_type": "execute_result"
    }
   ],
   "source": [
    "flowers.head(5), flowers.tail(5)"
   ]
  }
 ],
 "metadata": {
  "kernelspec": {
   "display_name": ".venv",
   "language": "python",
   "name": "python3"
  },
  "language_info": {
   "codemirror_mode": {
    "name": "ipython",
    "version": 3
   },
   "file_extension": ".py",
   "mimetype": "text/x-python",
   "name": "python",
   "nbconvert_exporter": "python",
   "pygments_lexer": "ipython3",
   "version": "3.11.4"
  },
  "orig_nbformat": 4
 },
 "nbformat": 4,
 "nbformat_minor": 2
}
